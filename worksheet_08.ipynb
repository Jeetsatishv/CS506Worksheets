{
 "cells": [
  {
   "attachments": {},
   "cell_type": "markdown",
   "metadata": {},
   "source": [
    "# Worksheet 08\n",
    "\n",
    "Name: Jeetkumar Vijaywargi \n",
    "UID: U00204914\n",
    "\n",
    "### Topics\n",
    "\n",
    "- Soft Clustering\n",
    "- Clustering Aggregation\n",
    "\n",
    "### Probability Review\n",
    "\n",
    "Read through [the following](https://medium.com/@gallettilance/overview-of-probability-3272b72c82c8)\n",
    "\n",
    "### Soft Clustering\n",
    "\n",
    "We generate 10 data points that come from a normal distribution with mean 5 and variance 1."
   ]
  },
  {
   "cell_type": "code",
   "execution_count": 1,
   "metadata": {},
   "outputs": [
    {
     "name": "stdout",
     "output_type": "stream",
     "text": [
      "[5.2446949454293845, 3.1323056942177874, 8.246042743508399, 5.3991566008498735, 5.134435613662363, 5.09225063745143, 5.1676174875855985, 5.223705980092602, 5.104608095902072, 4.975234681986382]\n"
     ]
    }
   ],
   "source": [
    "import random\n",
    "import numpy as np\n",
    "from sklearn.cluster import KMeans\n",
    "\n",
    "mean = 5\n",
    "stdev = 1\n",
    "\n",
    "s1 = np.random.normal(mean, stdev, 10).tolist()\n",
    "print(s1)"
   ]
  },
  {
   "cell_type": "markdown",
   "metadata": {},
   "source": [
    "a) Generate 10 more data points, this time coming from a normal distribution with mean 8 and variance 1."
   ]
  },
  {
   "cell_type": "code",
   "execution_count": 2,
   "metadata": {},
   "outputs": [
    {
     "name": "stdout",
     "output_type": "stream",
     "text": [
      "[9.216722633537195, 7.370041691731539, 7.889375829717049, 6.920389165382842, 8.368421291678374, 8.811836738133685, 6.9865623156462915, 9.096190547125564, 6.468840475968554, 7.097982177557282]\n"
     ]
    }
   ],
   "source": [
    "s2 = np.random.normal(8, 1, 10).tolist()\n",
    "print(s2)"
   ]
  },
  {
   "cell_type": "markdown",
   "metadata": {},
   "source": [
    "b) Flip a fair coin 10 times. If the coin lands on H, then pick the last data point of `c1` and remove it from `c1`, if T then pick the last data point from `c2` and remove it from `c2`. Add these 10 points to a list called `data`."
   ]
  },
  {
   "cell_type": "code",
   "execution_count": 3,
   "metadata": {},
   "outputs": [
    {
     "name": "stdout",
     "output_type": "stream",
     "text": [
      "[7.097982177557282, 4.975234681986382, 5.104608095902072, 5.223705980092602, 6.468840475968554, 5.1676174875855985, 5.09225063745143, 5.134435613662363, 5.3991566008498735, 8.246042743508399]\n"
     ]
    }
   ],
   "source": [
    "data = []\n",
    "for i in range(10):\n",
    "    # flip coin\n",
    "    coin_output = random.choice([0, 1])\n",
    "    if coin_output == 0:\n",
    "        p1 = s1.pop()\n",
    "        data.append(p1)\n",
    "    else:\n",
    "        p2 = s2.pop()\n",
    "        data.append(p2)\n",
    "print(data)"
   ]
  },
  {
   "cell_type": "markdown",
   "metadata": {},
   "source": [
    "c) This `data` is a Gaussian Mixture Distribution with 2 mixture components. Over the next few questions we will walk through the GMM algorithm to see if we can uncover the parameters we used to generate this data. First, please list all these parameters of the GMM that created `data` and the values we know they have."
   ]
  },
  {
   "cell_type": "markdown",
   "metadata": {},
   "source": [
    "The probability is half. There are parameter of other individual gaussian methods we used to generate this data. Other than the fair coin. "
   ]
  },
  {
   "cell_type": "markdown",
   "metadata": {},
   "source": [
    "d) Let's assume there are two mixture components (note: we could plot the data and make the observation that there are two clusters). The EM algorithm asks us to start with a random `mean_j`, `variance_j`, `P(S_j)` for each component j. One method we could use to find sensible values for these is to apply K means with k=2 here.\n",
    "\n",
    "1. the centroids would be the estimates of the `mean_j`\n",
    "2. the intra-cluster variance could be the estimate of `variance_j`\n",
    "3. the proportion of points in each cluster could be the estimate of `P(S_j)`\n",
    "\n",
    "Go through this process and list the parameter estimates it gives. Are they close or far from the true values?"
   ]
  },
  {
   "cell_type": "code",
   "execution_count": 4,
   "metadata": {},
   "outputs": [
    {
     "name": "stdout",
     "output_type": "stream",
     "text": [
      "[4.975234681986382, 5.104608095902072, 5.223705980092602, 5.1676174875855985, 5.09225063745143, 5.134435613662363, 5.3991566008498735]\n",
      "[7.097982177557282, 6.468840475968554, 8.246042743508399]\n",
      "P(S_1) = 0.7,  P(S_2) = 0.3\n",
      "mean_1 = 5.156715585361474,  mean_2 = 7.270955132344746\n",
      "var_1 = 0.014812406549277414,  var_2 = 0.5413678048354141\n"
     ]
    },
    {
     "name": "stderr",
     "output_type": "stream",
     "text": [
      "/Library/Frameworks/Python.framework/Versions/3.11/lib/python3.11/site-packages/sklearn/cluster/_kmeans.py:1416: FutureWarning: The default value of `n_init` will change from 10 to 'auto' in 1.4. Set the value of `n_init` explicitly to suppress the warning\n",
      "  super()._check_params_vs_input(X, default_n_init=10)\n"
     ]
    }
   ],
   "source": [
    "kmeans = KMeans(2, init='k-means++').fit(X=np.array(data).reshape(-1, 1))\n",
    "\n",
    "s1 = [x[0] for x in filter(lambda x: x[1] == 0, zip(data, kmeans.labels_))]\n",
    "print(s1)\n",
    "s2 = [x[0] for x in filter(lambda x: x[1] == 1, zip(data, kmeans.labels_))]\n",
    "print(s2)\n",
    "\n",
    "prob_s = [ len(s1) / (len(s1) + len(s2)) , len(s2) / (len(s1) + len(s2)) ]\n",
    "mean = [ sum(s1)/len(s1) , sum(s2)/len(s2) ]\n",
    "var = [ sum(map(lambda x : (x - mean[0])**2, s1)) / len(s1) , sum(map(lambda x : (x - mean[1])**2, s2)) / len(s2) ]\n",
    "\n",
    "print(\"P(S_1) = \" + str(prob_s[0]) + \",  P(S_2) = \" + str(prob_s[1]))\n",
    "print(\"mean_1 = \" + str(mean[0]) + \",  mean_2 = \" + str(mean[1]))\n",
    "print(\"var_1 = \" + str(var[0]) + \",  var_2 = \" + str(var[1]))\n"
   ]
  },
  {
   "cell_type": "markdown",
   "metadata": {},
   "source": []
  },
  {
   "cell_type": "markdown",
   "metadata": {},
   "source": [
    "e) For each data point, compute `P(S_j | X_i)`. Comment on which cluster you think each point belongs to based on the estimated probabilities. How does that compare to the truth?"
   ]
  },
  {
   "cell_type": "code",
   "execution_count": 5,
   "metadata": {},
   "outputs": [
    {
     "name": "stdout",
     "output_type": "stream",
     "text": [
      "point =  7.097982177557282\n",
      "probability of observing that point if it came from cluster 0 =  0.0\n",
      "probability of observing that point if it came from cluster 1 =  0.7002444472882792\n",
      "point =  4.975234681986382\n",
      "probability of observing that point if it came from cluster 0 =  6.827120509552089e-32\n",
      "probability of observing that point if it came from cluster 1 =  9.173596202711429e-05\n",
      "point =  5.104608095902072\n",
      "probability of observing that point if it came from cluster 0 =  0.05534310854837133\n",
      "probability of observing that point if it came from cluster 1 =  0.00024561270941308565\n",
      "point =  5.223705980092602\n",
      "probability of observing that point if it came from cluster 0 =  0.0009745408055254132\n",
      "probability of observing that point if it came from cluster 1 =  0.0005781831405590303\n",
      "point =  6.468840475968554\n",
      "probability of observing that point if it came from cluster 0 =  0.0\n",
      "probability of observing that point if it came from cluster 1 =  0.2458785790226317\n",
      "point =  5.1676174875855985\n",
      "probability of observing that point if it came from cluster 0 =  20.542688288263133\n",
      "probability of observing that point if it came from cluster 1 =  0.00038866896810995147\n",
      "point =  5.09225063745143\n",
      "probability of observing that point if it came from cluster 0 =  0.0020766518647761987\n",
      "probability of observing that point if it came from cluster 1 =  0.0002241135938330203\n",
      "point =  5.134435613662363\n",
      "probability of observing that point if it came from cluster 0 =  8.68961952523653\n",
      "probability of observing that point if it came from cluster 1 =  0.0003057334379573884\n",
      "point =  5.3991566008498735\n",
      "probability of observing that point if it came from cluster 0 =  1.8118213594761443e-57\n",
      "probability of observing that point if it came from cluster 1 =  0.0018686129791399362\n",
      "point =  8.246042743508399\n",
      "probability of observing that point if it came from cluster 0 =  0.0\n",
      "probability of observing that point if it came from cluster 1 =  0.14553149278727676\n",
      "7.097982177557282\n",
      "Probability of coming from S_0 = 0.0\n",
      "Probability of coming from S_1 = 1.0\n",
      "\n",
      "4.975234681986382\n",
      "Probability of coming from S_0 = 1.7364997873912463e-27\n",
      "Probability of coming from S_1 = 1.0\n",
      "\n",
      "5.104608095902072\n",
      "Probability of coming from S_0 = 0.9981016107851706\n",
      "Probability of coming from S_1 = 0.0018983892148294163\n",
      "\n",
      "5.223705980092602\n",
      "Probability of coming from S_0 = 0.7972789273162091\n",
      "Probability of coming from S_1 = 0.20272107268379091\n",
      "\n",
      "6.468840475968554\n",
      "Probability of coming from S_0 = 0.0\n",
      "Probability of coming from S_1 = 1.0\n",
      "\n",
      "5.1676174875855985\n",
      "Probability of coming from S_0 = 0.9999918914670802\n",
      "Probability of coming from S_1 = 8.108532919789467e-06\n",
      "\n",
      "5.09225063745143\n",
      "Probability of coming from S_0 = 0.9557929493935783\n",
      "Probability of coming from S_1 = 0.044207050606421765\n",
      "\n",
      "5.134435613662363\n",
      "Probability of coming from S_0 = 0.9999849214755412\n",
      "Probability of coming from S_1 = 1.5078524458835895e-05\n",
      "\n",
      "5.3991566008498735\n",
      "Probability of coming from S_0 = 2.262417750120106e-54\n",
      "Probability of coming from S_1 = 1.0\n",
      "\n",
      "8.246042743508399\n",
      "Probability of coming from S_0 = 0.0\n",
      "Probability of coming from S_1 = 1.0\n",
      "\n"
     ]
    }
   ],
   "source": [
    "from scipy.stats import norm\n",
    "\n",
    "prob_s0_x = [] # P(S_0 | X_i)\n",
    "prob_s1_x = [] # P(S_1 | X_i)\n",
    "prob_x = [] # P(X_i)\n",
    "\n",
    "k = 2\n",
    "\n",
    "for p in data:\n",
    "    print(\"point = \", p)\n",
    "    pdf_i = []\n",
    "\n",
    "    for j in range(k):\n",
    "        # P(X_i | S_j)\n",
    "        pdf_i.append(norm.pdf(p, mean[j], var[j]))\n",
    "        print(\"probability of observing that point if it came from cluster \" + str(j) + \" = \", pdf_i[j])\n",
    "        # P(S_j) already computed\n",
    "        prob_s[j]\n",
    "\n",
    "    # P(X_i) = P(S_0)P(X_i | S_0) + P(S_1)P(X_i | S_1)\n",
    "    prob_x_i = prob_s[0] * pdf_i[0] + prob_s[1] * pdf_i[1]\n",
    "\n",
    "    # P(S_0 | X_i) = P(X_i | S_0)P(S_0) / P(X_i)\n",
    "    prob_s0_x_i = (pdf_i[0] * prob_s[0]) / prob_x_i\n",
    "    prob_s0_x.append( prob_s0_x_i )\n",
    "    # P(S_1 | X_i) = P(X_i | S_1)P(S_1) / P(X_i)\n",
    "    prob_s1_x_i = (pdf_i[1] * prob_s[1]) / prob_x_i\n",
    "    prob_s1_x.append( prob_s1_x_i )\n",
    "\n",
    "probs = zip(data, prob_s0_x, prob_s1_x)\n",
    "for p in probs:\n",
    "    print(p[0])\n",
    "    print(\"Probability of coming from S_0 = \" + str(p[1]))\n",
    "    print(\"Probability of coming from S_1 = \" + str(p[2]))\n",
    "    print()\n"
   ]
  },
  {
   "cell_type": "markdown",
   "metadata": {},
   "source": [
    "f) Having computed `P(S_j | X_i)`, update the estimates of `mean_j`, `var_j`, and `P(S_j)`. How different are these values from the original ones you got from K means? briefly comment."
   ]
  },
  {
   "cell_type": "code",
   "execution_count": 6,
   "metadata": {},
   "outputs": [
    {
     "name": "stdout",
     "output_type": "stream",
     "text": [
      "P(S_1) = 0.7,  P(S_2) = 0.3\n",
      "mean_1 = 5.1416473388939075,  mean_2 = 6.378756701382762\n",
      "var_1 = 0.002061920387540103,  var_2 = 1.3885691692101556\n"
     ]
    }
   ],
   "source": [
    "prob_c = [sum(prob_s0_x)/ len(prob_s0_x), sum(prob_s1_x) / len(prob_s1_x)]\n",
    "mean = [sum([x[0] * x[1] for x in zip(prob_s0_x, data)]) / sum(prob_s0_x), sum([x[0] * x[1] for x in zip(prob_s1_x, data)]) / sum(prob_s1_x)  ]\n",
    "var = [sum([x[0] * ((x[1] - mean[0])**2) for x in zip(prob_s0_x, data)]) / sum(prob_s0_x) , sum([x[0] * ((x[1] - mean[1])**2) for x in zip(prob_s1_x, data)]) / sum(prob_s1_x)]\n",
    "\n",
    "print(\"P(S_1) = \" + str(prob_s[0]) + \",  P(S_2) = \" + str(prob_s[1]))\n",
    "print(\"mean_1 = \" + str(mean[0]) + \",  mean_2 = \" + str(mean[1]))\n",
    "print(\"var_1 = \" + str(var[0]) + \",  var_2 = \" + str(var[1]))"
   ]
  },
  {
   "cell_type": "markdown",
   "metadata": {},
   "source": []
  },
  {
   "cell_type": "markdown",
   "metadata": {},
   "source": [
    "g) Update `P(S_j | X_i)`. Comment on any differences or lack thereof you observe."
   ]
  },
  {
   "cell_type": "code",
   "execution_count": 7,
   "metadata": {},
   "outputs": [
    {
     "name": "stdout",
     "output_type": "stream",
     "text": [
      "7.097982177557282\n",
      "Probability of coming from S_0 = 0.0\n",
      "Probability of coming from S_1 = 1.0\n",
      "\n",
      "4.975234681986382\n",
      "Probability of coming from S_0 = 0.0\n",
      "Probability of coming from S_1 = 1.0\n",
      "\n",
      "5.104608095902072\n",
      "Probability of coming from S_0 = 7.896654698864794e-68\n",
      "Probability of coming from S_1 = 1.0\n",
      "\n",
      "5.223705980092602\n",
      "Probability of coming from S_0 = 0.0\n",
      "Probability of coming from S_1 = 1.0\n",
      "\n",
      "6.468840475968554\n",
      "Probability of coming from S_0 = 0.0\n",
      "Probability of coming from S_1 = 1.0\n",
      "\n",
      "5.1676174875855985\n",
      "Probability of coming from S_0 = 3.1812289313800817e-32\n",
      "Probability of coming from S_1 = 1.0\n",
      "\n",
      "5.09225063745143\n",
      "Probability of coming from S_0 = 2.2185454336477307e-122\n",
      "Probability of coming from S_1 = 1.0\n",
      "\n",
      "5.134435613662363\n",
      "Probability of coming from S_0 = 0.6676909779738132\n",
      "Probability of coming from S_1 = 0.33230902202618684\n",
      "\n",
      "5.3991566008498735\n",
      "Probability of coming from S_0 = 0.0\n",
      "Probability of coming from S_1 = 1.0\n",
      "\n",
      "8.246042743508399\n",
      "Probability of coming from S_0 = 0.0\n",
      "Probability of coming from S_1 = 1.0\n",
      "\n"
     ]
    }
   ],
   "source": [
    "prob_s0_x = []  # P(S_0 | X_i)\n",
    "prob_s1_x = []  # P(S_1 | X_i)\n",
    "\n",
    "for p in data:\n",
    "    pdf_i = []\n",
    "\n",
    "    for j in range(k):\n",
    "        # P(X_i | S_j)\n",
    "        pdf_i.append(norm.pdf(p, mean[j], var[j]))\n",
    "\n",
    "    # P(S_0 | X_i) = P(X_i | S_0)P(S_0) / P(X_i)\n",
    "    prob_s0_x_i = (pdf_i[0] * prob_c[0]) / (pdf_i[0] * prob_c[0] + pdf_i[1] * prob_c[1])\n",
    "    prob_s0_x.append(prob_s0_x_i)\n",
    "\n",
    "    # P(S_1 | X_i) = P(X_i | S_1)P(S_1) / P(X_i)\n",
    "    prob_s1_x_i = (pdf_i[1] * prob_c[1]) / (pdf_i[0] * prob_c[0] + pdf_i[1] * prob_c[1])\n",
    "    prob_s1_x.append(prob_s1_x_i)\n",
    "\n",
    "# Print updated posterior probabilities\n",
    "probs = zip(data, prob_s0_x, prob_s1_x)\n",
    "for p in probs:\n",
    "    print(p[0])\n",
    "    print(\"Probability of coming from S_0 = \" + str(p[1]))\n",
    "    print(\"Probability of coming from S_1 = \" + str(p[2]))\n",
    "    print()"
   ]
  },
  {
   "cell_type": "markdown",
   "metadata": {},
   "source": []
  },
  {
   "cell_type": "markdown",
   "metadata": {},
   "source": [
    "h) Use `P(S_j | X_i)` to create a hard assignment - label each point as belonging to a specific cluster (0 or 1)"
   ]
  },
  {
   "cell_type": "code",
   "execution_count": 8,
   "metadata": {},
   "outputs": [
    {
     "name": "stdout",
     "output_type": "stream",
     "text": [
      "Data point 0 belongs to Cluster 1\n",
      "Data point 1 belongs to Cluster 1\n",
      "Data point 2 belongs to Cluster 1\n",
      "Data point 3 belongs to Cluster 1\n",
      "Data point 4 belongs to Cluster 1\n",
      "Data point 5 belongs to Cluster 1\n",
      "Data point 6 belongs to Cluster 1\n",
      "Data point 7 belongs to Cluster 0\n",
      "Data point 8 belongs to Cluster 1\n",
      "Data point 9 belongs to Cluster 1\n"
     ]
    }
   ],
   "source": [
    "hard_assignments = []  # List to store hard cluster assignments\n",
    "\n",
    "for p_s0, p_s1 in zip(prob_s0_x, prob_s1_x):\n",
    "    if p_s0 > p_s1:\n",
    "        hard_assignments.append(0)  # Assign to cluster 0\n",
    "    else:\n",
    "        hard_assignments.append(1)  # Assign to cluster 1\n",
    "\n",
    "# Print the hard assignments\n",
    "for i, assignment in enumerate(hard_assignments):\n",
    "    print(f\"Data point {i} belongs to Cluster {assignment}\")"
   ]
  }
 ],
 "metadata": {
  "kernelspec": {
   "display_name": "Python 3",
   "language": "python",
   "name": "python3"
  },
  "language_info": {
   "codemirror_mode": {
    "name": "ipython",
    "version": 3
   },
   "file_extension": ".py",
   "mimetype": "text/x-python",
   "name": "python",
   "nbconvert_exporter": "python",
   "pygments_lexer": "ipython3",
   "version": "3.11.5"
  },
  "orig_nbformat": 4,
  "vscode": {
   "interpreter": {
    "hash": "e7370f93d1d0cde622a1f8e1c04877d8463912d04d973331ad4851f04de6915a"
   }
  }
 },
 "nbformat": 4,
 "nbformat_minor": 2
}
